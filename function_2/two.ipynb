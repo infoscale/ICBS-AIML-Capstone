{
 "cells": [
  {
   "cell_type": "code",
   "execution_count": 1,
   "metadata": {},
   "outputs": [],
   "source": [
    "import numpy as np\n",
    "import pandas as pd\n",
    "import matplotlib.pyplot as plt\n",
    "from sklearn.gaussian_process import GaussianProcessRegressor"
   ]
  },
  {
   "cell_type": "code",
   "execution_count": 2,
   "metadata": {},
   "outputs": [],
   "source": [
    "X = np.load('initial_inputs.npy')\n",
    "Y = np.load('initial_outputs.npy')"
   ]
  },
  {
   "cell_type": "code",
   "execution_count": 3,
   "metadata": {},
   "outputs": [],
   "source": [
    "# Week 1\n",
    "X = np.append(X, np.array([[0.0, 0.999999]]), axis=0)\n",
    "Y = np.append(Y, 0.0519568844076447)"
   ]
  },
  {
   "cell_type": "code",
   "execution_count": 4,
   "metadata": {},
   "outputs": [],
   "source": [
    "# Week 2\n",
    "X = np.append(X, np.array([[0.999999, 0.999999]]), axis=0)\n",
    "Y = np.append(Y, -0.01580391485)"
   ]
  },
  {
   "cell_type": "code",
   "execution_count": 5,
   "metadata": {},
   "outputs": [],
   "source": [
    "# Week 3, submission for M15, submitted on Mon Hune 2024\n",
    "X = np.append(X, np.array([[0.000000, 0.696970]]), axis=0)\n",
    "Y = np.append(Y, 5.56E-170)"
   ]
  },
  {
   "cell_type": "code",
   "execution_count": 6,
   "metadata": {},
   "outputs": [
    {
     "name": "stdout",
     "output_type": "stream",
     "text": [
      "X :  [[0.66579958 0.12396913]\n",
      " [0.87779099 0.7786275 ]\n",
      " [0.14269907 0.34900513]\n",
      " [0.84527543 0.71112027]\n",
      " [0.45464714 0.29045518]\n",
      " [0.57771284 0.77197318]\n",
      " [0.43816606 0.68501826]\n",
      " [0.34174959 0.02869772]\n",
      " [0.33864816 0.21386725]\n",
      " [0.70263656 0.9265642 ]\n",
      " [0.         0.999999  ]\n",
      " [0.999999   0.999999  ]\n",
      " [0.         0.69697   ]]\n",
      "Y :  [ 5.38996119e-001  4.20586240e-001 -6.56236244e-002  2.93992912e-001\n",
      "  2.14964510e-001  2.31055498e-002  2.44619344e-001  3.87490152e-002\n",
      " -1.38576181e-002  6.11205216e-001  5.19568844e-002 -1.58039148e-002\n",
      "  5.56000000e-170]\n"
     ]
    }
   ],
   "source": [
    "print('X : ',  X)\n",
    "print('Y : ', Y)"
   ]
  },
  {
   "cell_type": "code",
   "execution_count": 7,
   "metadata": {},
   "outputs": [
    {
     "data": {
      "image/png": "[encoded data removed]",
      "text/plain": [
       "<Figure size 576x360 with 2 Axes>"
      ]
     },
     "metadata": {
      "needs_background": "light"
     },
     "output_type": "display_data"
    }
   ],
   "source": [
    "fig, ax = plt.subplots()\n",
    "fig.set_figheight(5)\n",
    "fig.set_figwidth(8)\n",
    "plt.scatter(X[:, 0], X[:, 1], c = Y)\n",
    "plt.colorbar();"
   ]
  },
  {
   "cell_type": "code",
   "execution_count": 8,
   "metadata": {},
   "outputs": [],
   "source": [
    "import itertools as it"
   ]
  },
  {
   "cell_type": "code",
   "execution_count": 9,
   "metadata": {},
   "outputs": [],
   "source": [
    "dim = 2\n",
    "X_grid = np.fromiter(it.chain(*it.product(np.linspace(0, 1, 100), repeat=dim)), dtype=float).reshape(-1,dim)"
   ]
  },
  {
   "cell_type": "code",
   "execution_count": 10,
   "metadata": {},
   "outputs": [],
   "source": [
    "def upper_confidance_bound(i_param, o_param):\n",
    "    gpr = GaussianProcessRegressor()\n",
    "    gpr.fit(i_param, o_param)\n",
    "    mean, std = gpr.predict(X_grid, return_std = True)\n",
    "    ucb = mean + 1.1 * std\n",
    "    return ucb\n"
   ]
  },
  {
   "cell_type": "code",
   "execution_count": 11,
   "metadata": {},
   "outputs": [],
   "source": [
    "def get_next(upper_conf):\n",
    "    idx_max = np.argmax(upper_conf)\n",
    "    next_query = X_grid[idx_max]\n",
    "    return next_query"
   ]
  },
  {
   "cell_type": "code",
   "execution_count": 12,
   "metadata": {},
   "outputs": [],
   "source": [
    "ucb = upper_confidance_bound(X,Y)"
   ]
  },
  {
   "cell_type": "code",
   "execution_count": 13,
   "metadata": {},
   "outputs": [
    {
     "name": "stdout",
     "output_type": "stream",
     "text": [
      "[0.32323232 1.        ]\n"
     ]
    }
   ],
   "source": [
    "print(get_next(upper_conf=ucb))"
   ]
  }
 ],
 "metadata": {
  "kernelspec": {
   "display_name": "Python 3",
   "language": "python",
   "name": "python3"
  },
  "language_info": {
   "codemirror_mode": {
    "name": "ipython",
    "version": 3
   },
   "file_extension": ".py",
   "mimetype": "text/x-python",
   "name": "python",
   "nbconvert_exporter": "python",
   "pygments_lexer": "ipython3",
   "version": "3.11.7"
  }
 },
 "nbformat": 4,
 "nbformat_minor": 2
}
