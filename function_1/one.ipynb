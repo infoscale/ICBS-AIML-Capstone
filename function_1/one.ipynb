{
 "cells": [
  {
   "cell_type": "code",
   "execution_count": 1,
   "metadata": {},
   "outputs": [],
   "source": [
    "import numpy as np\n",
    "import pandas as pd\n",
    "import matplotlib.pyplot as plt\n",
    "from sklearn.gaussian_process import GaussianProcessRegressor"
   ]
  },
  {
   "cell_type": "code",
   "execution_count": 2,
   "metadata": {},
   "outputs": [],
   "source": [
    "X = np.load('initial_inputs.npy')\n",
    "Y = np.load('initial_outputs.npy')\n"
   ]
  },
  {
   "cell_type": "code",
   "execution_count": 3,
   "metadata": {},
   "outputs": [],
   "source": [
    "# Week 1\n",
    "X = np.append(X, np.array([[0.0, 0.999999]]), axis=0)\n",
    "Y = np.append(Y, 0.0)"
   ]
  },
  {
   "cell_type": "code",
   "execution_count": 4,
   "metadata": {},
   "outputs": [],
   "source": [
    "# Week 2\n",
    "X = np.append(X, np.array([[0.999999, 0.000000]]), axis=0)\n",
    "Y = np.append(Y, 0.0)"
   ]
  },
  {
   "cell_type": "code",
   "execution_count": 5,
   "metadata": {},
   "outputs": [],
   "source": [
    "# Week 3, submission for M15\n",
    "X = np.append(X, np.array([[0.676768, 0.000000]]), axis=0)\n",
    "Y = np.append(Y, 5.56E-170)"
   ]
  },
  {
   "cell_type": "code",
   "execution_count": 6,
   "metadata": {},
   "outputs": [
    {
     "name": "stdout",
     "output_type": "stream",
     "text": [
      "X :  [[0.31940389 0.76295937]\n",
      " [0.57432921 0.8798981 ]\n",
      " [0.73102363 0.73299988]\n",
      " [0.84035342 0.26473161]\n",
      " [0.65011406 0.68152635]\n",
      " [0.41043714 0.1475543 ]\n",
      " [0.31269116 0.07872278]\n",
      " [0.68341817 0.86105746]\n",
      " [0.08250725 0.40348751]\n",
      " [0.88388983 0.58225397]\n",
      " [0.         0.999999  ]\n",
      " [0.999999   0.        ]\n",
      " [0.676768   0.        ]]\n",
      "Y :  [ 1.32267704e-079  1.03307824e-046  7.71087511e-016  3.34177101e-124\n",
      " -3.60606264e-003 -2.15924904e-054 -2.08909327e-091  2.53500115e-040\n",
      "  3.60677119e-081  6.22985647e-048  0.00000000e+000  0.00000000e+000\n",
      "  5.56000000e-170]\n"
     ]
    }
   ],
   "source": [
    "print('X : ',  X)\n",
    "print('Y : ', Y)"
   ]
  },
  {
   "cell_type": "code",
   "execution_count": 7,
   "metadata": {},
   "outputs": [
    {
     "data": {
      "image/png": "[encoded data removed]",
      "text/plain": [
       "<Figure size 576x360 with 2 Axes>"
      ]
     },
     "metadata": {
      "needs_background": "light"
     },
     "output_type": "display_data"
    }
   ],
   "source": [
    "fig, ax = plt.subplots()\n",
    "fig.set_figheight(5)\n",
    "fig.set_figwidth(8)\n",
    "plt.scatter(X[:, 0], X[:, 1], c = Y)\n",
    "plt.colorbar();"
   ]
  },
  {
   "cell_type": "code",
   "execution_count": 8,
   "metadata": {},
   "outputs": [],
   "source": [
    "import itertools as it"
   ]
  },
  {
   "cell_type": "code",
   "execution_count": 9,
   "metadata": {},
   "outputs": [],
   "source": [
    "X_grid = np.fromiter(it.chain(*it.product(np.linspace(0, 1, 100), repeat=2)), dtype=float).reshape(-1,2)"
   ]
  },
  {
   "cell_type": "code",
   "execution_count": 10,
   "metadata": {},
   "outputs": [],
   "source": [
    "def upper_confidance_bound(i_param, o_param):\n",
    "    gpr = GaussianProcessRegressor()\n",
    "    gpr.fit(i_param, o_param)\n",
    "    mean, std = gpr.predict(X_grid, return_std = True)\n",
    "    ucb = mean + 1.2 * std\n",
    "    return ucb\n"
   ]
  },
  {
   "cell_type": "code",
   "execution_count": 11,
   "metadata": {},
   "outputs": [],
   "source": [
    "def get_next(upper_conf):\n",
    "    idx_max = np.argmax(upper_conf)\n",
    "    next_query = X_grid[idx_max]\n",
    "    return next_query"
   ]
  },
  {
   "cell_type": "code",
   "execution_count": 12,
   "metadata": {},
   "outputs": [],
   "source": [
    "ucb = upper_confidance_bound(X,Y)"
   ]
  },
  {
   "cell_type": "code",
   "execution_count": 13,
   "metadata": {},
   "outputs": [
    {
     "data": {
      "text/plain": [
       "array([0.        , 0.09090909])"
      ]
     },
     "execution_count": 13,
     "metadata": {},
     "output_type": "execute_result"
    }
   ],
   "source": [
    "next = get_next(upper_conf=ucb)\n",
    "next"
   ]
  }
 ],
 "metadata": {
  "kernelspec": {
   "display_name": "Python 3",
   "language": "python",
   "name": "python3"
  },
  "language_info": {
   "codemirror_mode": {
    "name": "ipython",
    "version": 3
   },
   "file_extension": ".py",
   "mimetype": "text/x-python",
   "name": "python",
   "nbconvert_exporter": "python",
   "pygments_lexer": "ipython3",
   "version": "3.11.7"
  }
 },
 "nbformat": 4,
 "nbformat_minor": 2
}
