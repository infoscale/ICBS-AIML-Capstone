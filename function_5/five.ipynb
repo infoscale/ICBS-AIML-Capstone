{
 "cells": [
  {
   "cell_type": "code",
   "execution_count": 37,
   "metadata": {},
   "outputs": [],
   "source": [
    "import numpy as np\n",
    "import pandas as pd\n",
    "import matplotlib.pyplot as plt\n",
    "from sklearn.gaussian_process import GaussianProcessRegressor"
   ]
  },
  {
   "cell_type": "code",
   "execution_count": 38,
   "metadata": {},
   "outputs": [],
   "source": [
    "X = np.load('initial_inputs.npy')\n",
    "Y = np.load('initial_outputs.npy')"
   ]
  },
  {
   "cell_type": "code",
   "execution_count": 39,
   "metadata": {},
   "outputs": [],
   "source": [
    "# Week 1\n",
    "X = np.append(X, np.array([[0.666666, 0.999999, 0.999999, 0.999999]]), axis=0)\n",
    "Y = np.append(Y, 5188.01687646763)"
   ]
  },
  {
   "cell_type": "code",
   "execution_count": 40,
   "metadata": {},
   "outputs": [],
   "source": [
    "# Week 2\n",
    "X = np.append(X, np.array([[0.999999, 0.999999, 0.999999, 0.999999]]), axis=0)\n",
    "Y = np.append(Y, 8662.405001)"
   ]
  },
  {
   "cell_type": "code",
   "execution_count": 41,
   "metadata": {},
   "outputs": [],
   "source": [
    "# Week 3, submission for M15, submitted on Mon Hune 2024\n",
    "X = np.append(X, np.array([[0.999999, 0.999999, 0.999999, 0.999999]]), axis=0)\n",
    "Y = np.append(Y, 8662.4050012483)"
   ]
  },
  {
   "cell_type": "code",
   "execution_count": 42,
   "metadata": {},
   "outputs": [
    {
     "name": "stdout",
     "output_type": "stream",
     "text": [
      "X :  [[0.19144708 0.03819337 0.60741781 0.41458414]\n",
      " [0.75865295 0.53651774 0.65600038 0.36034155]\n",
      " [0.43834987 0.8043397  0.21024527 0.15129482]\n",
      " [0.70605083 0.53419196 0.26424335 0.48208755]\n",
      " [0.83647799 0.19360965 0.6638927  0.78564888]\n",
      " [0.68343225 0.11866264 0.82904591 0.56757661]\n",
      " [0.55362148 0.66734998 0.32380582 0.81486975]\n",
      " [0.35235627 0.32224153 0.11697937 0.47311252]\n",
      " [0.15378571 0.72938169 0.42259844 0.44307417]\n",
      " [0.46344227 0.63002451 0.10790646 0.9576439 ]\n",
      " [0.67749115 0.35850951 0.47959222 0.07288048]\n",
      " [0.58397341 0.14724265 0.34809746 0.42861465]\n",
      " [0.30688872 0.31687813 0.62263448 0.09539906]\n",
      " [0.51114177 0.817957   0.72871042 0.11235362]\n",
      " [0.43893338 0.77409176 0.37816709 0.93369621]\n",
      " [0.22418902 0.84648049 0.87948418 0.87851568]\n",
      " [0.72526172 0.47987049 0.08894684 0.75976022]\n",
      " [0.35548161 0.63961937 0.41761768 0.12260384]\n",
      " [0.11987923 0.86254031 0.64333133 0.84980383]\n",
      " [0.12688467 0.15342962 0.77016219 0.19051811]\n",
      " [0.666666   0.999999   0.999999   0.999999  ]\n",
      " [0.999999   0.999999   0.999999   0.999999  ]\n",
      " [0.999999   0.999999   0.999999   0.999999  ]]\n",
      "Y :  [6.44434399e+01 1.83013796e+01 1.12939795e-01 4.21089813e+00\n",
      " 2.58370525e+02 7.84343889e+01 5.75715369e+01 1.09571876e+02\n",
      " 8.84799176e+00 2.33223610e+02 2.44230883e+01 6.44201468e+01\n",
      " 6.34767158e+01 7.97291299e+01 3.55806818e+02 1.08885962e+03\n",
      " 2.88667516e+01 4.51815703e+01 4.31612757e+02 9.97233189e+00\n",
      " 5.18801688e+03 8.66240500e+03 8.66240500e+03]\n"
     ]
    }
   ],
   "source": [
    "print('X : ',  X)\n",
    "print('Y : ', Y)"
   ]
  },
  {
   "cell_type": "code",
   "execution_count": 43,
   "metadata": {},
   "outputs": [],
   "source": [
    "import itertools as it"
   ]
  },
  {
   "cell_type": "code",
   "execution_count": 44,
   "metadata": {},
   "outputs": [],
   "source": [
    "dim = 4\n",
    "X_grid = np.fromiter(it.chain(*it.product(np.linspace(0, 1, 25), repeat=dim)), dtype=float).reshape(-1,dim)"
   ]
  },
  {
   "cell_type": "code",
   "execution_count": 45,
   "metadata": {},
   "outputs": [],
   "source": [
    "def upper_confidance_bound(i_param, o_param):\n",
    "    gpr = GaussianProcessRegressor()\n",
    "    gpr.fit(i_param, o_param)\n",
    "    mean, std = gpr.predict(X_grid, return_std = True)\n",
    "    ucb = mean + 1.96 * std\n",
    "    return ucb\n"
   ]
  },
  {
   "cell_type": "code",
   "execution_count": 46,
   "metadata": {},
   "outputs": [],
   "source": [
    "def get_next(upper_conf):\n",
    "    idx_max = np.argmax(upper_conf)\n",
    "    next_query = X_grid[idx_max]\n",
    "    return next_query"
   ]
  },
  {
   "cell_type": "code",
   "execution_count": 47,
   "metadata": {},
   "outputs": [],
   "source": [
    "ucb = upper_confidance_bound(X,Y)"
   ]
  },
  {
   "cell_type": "code",
   "execution_count": 48,
   "metadata": {},
   "outputs": [
    {
     "name": "stdout",
     "output_type": "stream",
     "text": [
      "[1. 1. 1. 1.]\n"
     ]
    }
   ],
   "source": [
    "print(get_next(upper_conf=ucb))"
   ]
  }
 ],
 "metadata": {
  "kernelspec": {
   "display_name": "Python 3",
   "language": "python",
   "name": "python3"
  },
  "language_info": {
   "codemirror_mode": {
    "name": "ipython",
    "version": 3
   },
   "file_extension": ".py",
   "mimetype": "text/x-python",
   "name": "python",
   "nbconvert_exporter": "python",
   "pygments_lexer": "ipython3",
   "version": "3.11.9"
  }
 },
 "nbformat": 4,
 "nbformat_minor": 2
}
