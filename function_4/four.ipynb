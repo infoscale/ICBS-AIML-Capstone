{
 "cells": [
  {
   "cell_type": "code",
   "execution_count": 34,
   "metadata": {},
   "outputs": [],
   "source": [
    "import numpy as np\n",
    "import pandas as pd\n",
    "import matplotlib.pyplot as plt\n",
    "from sklearn.gaussian_process import GaussianProcessRegressor"
   ]
  },
  {
   "cell_type": "code",
   "execution_count": 35,
   "metadata": {},
   "outputs": [],
   "source": [
    "X = np.load('initial_inputs.npy')\n",
    "Y = np.load('initial_outputs.npy')"
   ]
  },
  {
   "cell_type": "code",
   "execution_count": 36,
   "metadata": {},
   "outputs": [],
   "source": [
    "# Week 1\n",
    "X = np.append(X, np.array([[0.416667, 0.375, 0.333333, 0.458333]]), axis=0)\n",
    "Y = np.append(Y, -0.3843606398)"
   ]
  },
  {
   "cell_type": "code",
   "execution_count": 37,
   "metadata": {},
   "outputs": [],
   "source": [
    "# Week 3, submission for M15, submitted on Mon Hune 2024\n",
    "X = np.append(X, np.array([[0.416667, 0.375000, 0.333333, 0.416667]]), axis=0)\n",
    "Y = np.append(Y, 0.330240283465102)"
   ]
  },
  {
   "cell_type": "code",
   "execution_count": 38,
   "metadata": {},
   "outputs": [
    {
     "name": "stdout",
     "output_type": "stream",
     "text": [
      "X :  [[0.89698105 0.72562797 0.17540431 0.70169437]\n",
      " [0.8893564  0.49958786 0.53926886 0.50878344]\n",
      " [0.25094624 0.03369313 0.14538002 0.49493242]\n",
      " [0.34696206 0.0062504  0.76056361 0.61302356]\n",
      " [0.12487118 0.12977019 0.38440048 0.2870761 ]\n",
      " [0.80130271 0.50023109 0.70664456 0.19510284]\n",
      " [0.24770826 0.06044543 0.04218635 0.44132425]\n",
      " [0.74670224 0.7570915  0.36935306 0.20656628]\n",
      " [0.40066503 0.07257425 0.88676825 0.24384229]\n",
      " [0.6260706  0.58675126 0.43880578 0.77885769]\n",
      " [0.95713529 0.59764438 0.76611385 0.77620991]\n",
      " [0.73281243 0.14524998 0.47681272 0.13336573]\n",
      " [0.65511548 0.07239183 0.68715175 0.08151656]\n",
      " [0.21973443 0.83203134 0.48286416 0.08256923]\n",
      " [0.48859419 0.2119651  0.93917791 0.37619173]\n",
      " [0.16713049 0.87655456 0.21723954 0.95980098]\n",
      " [0.21691119 0.16608583 0.24137226 0.77006248]\n",
      " [0.38748784 0.80453226 0.75179548 0.72382744]\n",
      " [0.98562189 0.66693268 0.15678328 0.8565348 ]\n",
      " [0.03782483 0.66485335 0.16198218 0.25392378]\n",
      " [0.68348638 0.9027701  0.33541983 0.99948256]\n",
      " [0.17034731 0.75695908 0.27652049 0.5312315 ]\n",
      " [0.85965692 0.91959232 0.20613873 0.09779683]\n",
      " [0.28213837 0.50598691 0.53053084 0.09630162]\n",
      " [0.32607578 0.4723669  0.453192   0.10588734]\n",
      " [0.94838936 0.89451301 0.85163782 0.55219629]\n",
      " [0.66495539 0.04656628 0.11677747 0.79371778]\n",
      " [0.57776561 0.42877174 0.42582587 0.24900741]\n",
      " [0.73861301 0.48210263 0.70936644 0.50397001]\n",
      " [0.8548108  0.49396462 0.73530997 0.80809201]\n",
      " [0.416667   0.375      0.333333   0.458333  ]\n",
      " [0.416667   0.375      0.333333   0.416667  ]]\n",
      "Y :  [-22.10828779 -14.60139663 -11.69993246 -16.05376511 -10.06963343\n",
      " -15.48708254 -12.68168498 -16.02639977 -17.04923465 -12.74176599\n",
      " -27.31639636 -13.52764887 -16.6791152  -16.50715856 -17.81799934\n",
      " -26.56182083 -12.75832422 -19.44155762 -28.90327367 -13.70274694\n",
      " -29.4270914  -11.56574199 -26.85778644  -7.96677535  -6.70208925\n",
      " -32.62566022 -19.98949793  -4.02554228 -13.12278233 -23.1394284\n",
      "  -0.38436064   0.33024028]\n"
     ]
    }
   ],
   "source": [
    "print('X : ',  X)\n",
    "print('Y : ', Y)"
   ]
  },
  {
   "cell_type": "code",
   "execution_count": 39,
   "metadata": {},
   "outputs": [],
   "source": [
    "import itertools as it"
   ]
  },
  {
   "cell_type": "code",
   "execution_count": 40,
   "metadata": {},
   "outputs": [],
   "source": [
    "dim = 4\n",
    "X_grid = np.fromiter(it.chain(*it.product(np.linspace(0, 1, 25), repeat=dim)), dtype=float).reshape(-1,dim)"
   ]
  },
  {
   "cell_type": "code",
   "execution_count": 41,
   "metadata": {},
   "outputs": [],
   "source": [
    "def upper_confidance_bound(i_param, o_param):\n",
    "    gpr = GaussianProcessRegressor()\n",
    "    gpr.fit(i_param, o_param)\n",
    "    mean, std = gpr.predict(X_grid, return_std = True)\n",
    "    ucb = mean + 1.85 * std\n",
    "    return ucb\n"
   ]
  },
  {
   "cell_type": "code",
   "execution_count": 42,
   "metadata": {},
   "outputs": [],
   "source": [
    "def get_next(upper_conf):\n",
    "    idx_max = np.argmax(upper_conf)\n",
    "    next_query = X_grid[idx_max]\n",
    "    return next_query"
   ]
  },
  {
   "cell_type": "code",
   "execution_count": 43,
   "metadata": {},
   "outputs": [],
   "source": [
    "ucb = upper_confidance_bound(X,Y)"
   ]
  },
  {
   "cell_type": "code",
   "execution_count": 44,
   "metadata": {},
   "outputs": [
    {
     "name": "stdout",
     "output_type": "stream",
     "text": [
      "[0.45833333 0.45833333 0.         0.25      ]\n"
     ]
    }
   ],
   "source": [
    "print(get_next(upper_conf=ucb))"
   ]
  }
 ],
 "metadata": {
  "kernelspec": {
   "display_name": "Python 3",
   "language": "python",
   "name": "python3"
  },
  "language_info": {
   "codemirror_mode": {
    "name": "ipython",
    "version": 3
   },
   "file_extension": ".py",
   "mimetype": "text/x-python",
   "name": "python",
   "nbconvert_exporter": "python",
   "pygments_lexer": "ipython3",
   "version": "3.11.9"
  }
 },
 "nbformat": 4,
 "nbformat_minor": 2
}
