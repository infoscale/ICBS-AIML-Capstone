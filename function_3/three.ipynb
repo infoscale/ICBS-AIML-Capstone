{
 "cells": [
  {
   "cell_type": "code",
   "execution_count": 37,
   "metadata": {},
   "outputs": [],
   "source": [
    "import numpy as np\n",
    "import pandas as pd\n",
    "import matplotlib.pyplot as plt\n",
    "from sklearn.gaussian_process import GaussianProcessRegressor"
   ]
  },
  {
   "cell_type": "code",
   "execution_count": 38,
   "metadata": {},
   "outputs": [],
   "source": [
    "X = np.load('initial_inputs.npy')\n",
    "Y = np.load('initial_outputs.npy')"
   ]
  },
  {
   "cell_type": "code",
   "execution_count": 39,
   "metadata": {},
   "outputs": [],
   "source": [
    "# Week 1\n",
    "X = np.append(X, np.array([[0.999999, 0.999999, 0.999999]]), axis=0)\n",
    "Y = np.append(Y, -0.196020925114507)"
   ]
  },
  {
   "cell_type": "code",
   "execution_count": 40,
   "metadata": {},
   "outputs": [],
   "source": [
    "# Week 2\n",
    "X = np.append(X, np.array([[0.999999, 0.0, 0.70707]]), axis=0)\n",
    "Y = np.append(Y, -0.4949776013)"
   ]
  },
  {
   "cell_type": "code",
   "execution_count": 41,
   "metadata": {},
   "outputs": [],
   "source": [
    "# Week 3, submission for M15, submitted on Mon Hune 2024\n",
    "X = np.append(X, np.array([[0.474747, 0.999999, 0.000000]]), axis=0)\n",
    "Y = np.append(Y, -0.156923158387769)"
   ]
  },
  {
   "cell_type": "code",
   "execution_count": 42,
   "metadata": {},
   "outputs": [
    {
     "name": "stdout",
     "output_type": "stream",
     "text": [
      "X :  [[0.17152521 0.34391687 0.2487372 ]\n",
      " [0.24211446 0.64407427 0.27243281]\n",
      " [0.53490572 0.39850092 0.17338873]\n",
      " [0.49258141 0.61159319 0.34017639]\n",
      " [0.13462167 0.21991724 0.45820622]\n",
      " [0.34552327 0.94135983 0.26936348]\n",
      " [0.15183663 0.43999062 0.99088187]\n",
      " [0.64550284 0.39714294 0.91977134]\n",
      " [0.74691195 0.28419631 0.22629985]\n",
      " [0.17047699 0.6970324  0.14916943]\n",
      " [0.22054934 0.29782524 0.34355534]\n",
      " [0.66601366 0.67198515 0.2462953 ]\n",
      " [0.04680895 0.23136024 0.77061759]\n",
      " [0.60009728 0.72513573 0.06608864]\n",
      " [0.96599485 0.86111969 0.56682913]\n",
      " [0.999999   0.999999   0.999999  ]\n",
      " [0.999999   0.         0.70707   ]\n",
      " [0.474747   0.999999   0.        ]]\n",
      "Y :  [-0.1121222  -0.08796286 -0.11141465 -0.03483531 -0.04800758 -0.11062091\n",
      " -0.39892551 -0.11386851 -0.13146061 -0.09418956 -0.04694741 -0.10596504\n",
      " -0.11804826 -0.03637783 -0.05675837 -0.19602093 -0.4949776  -0.15692316]\n"
     ]
    }
   ],
   "source": [
    "print('X : ',  X)\n",
    "print('Y : ', Y)"
   ]
  },
  {
   "cell_type": "code",
   "execution_count": 43,
   "metadata": {},
   "outputs": [],
   "source": [
    "import itertools as it"
   ]
  },
  {
   "cell_type": "code",
   "execution_count": 44,
   "metadata": {},
   "outputs": [],
   "source": [
    "dim = 3\n",
    "X_grid = np.fromiter(it.chain(*it.product(np.linspace(0, 1, 100), repeat=dim)), dtype=float).reshape(-1,dim)"
   ]
  },
  {
   "cell_type": "code",
   "execution_count": 45,
   "metadata": {},
   "outputs": [],
   "source": [
    "def upper_confidance_bound(i_param, o_param):\n",
    "    gpr = GaussianProcessRegressor()\n",
    "    gpr.fit(i_param, o_param)\n",
    "    mean, std = gpr.predict(X_grid, return_std = True)\n",
    "    ucb = mean + 1 * std\n",
    "    return ucb\n"
   ]
  },
  {
   "cell_type": "code",
   "execution_count": 46,
   "metadata": {},
   "outputs": [],
   "source": [
    "def get_next(upper_conf):\n",
    "    idx_max = np.argmax(upper_conf)\n",
    "    next_query = X_grid[idx_max]\n",
    "    return next_query"
   ]
  },
  {
   "cell_type": "code",
   "execution_count": 47,
   "metadata": {},
   "outputs": [],
   "source": [
    "ucb = upper_confidance_bound(X,Y)"
   ]
  },
  {
   "cell_type": "code",
   "execution_count": 48,
   "metadata": {},
   "outputs": [
    {
     "name": "stdout",
     "output_type": "stream",
     "text": [
      "[1. 0. 0.]\n"
     ]
    }
   ],
   "source": [
    "print(get_next(upper_conf=ucb))"
   ]
  }
 ],
 "metadata": {
  "kernelspec": {
   "display_name": "Python 3",
   "language": "python",
   "name": "python3"
  },
  "language_info": {
   "codemirror_mode": {
    "name": "ipython",
    "version": 3
   },
   "file_extension": ".py",
   "mimetype": "text/x-python",
   "name": "python",
   "nbconvert_exporter": "python",
   "pygments_lexer": "ipython3",
   "version": "3.11.9"
  }
 },
 "nbformat": 4,
 "nbformat_minor": 2
}
