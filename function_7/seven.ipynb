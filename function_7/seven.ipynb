{
 "cells": [
  {
   "cell_type": "code",
   "execution_count": 13,
   "metadata": {},
   "outputs": [],
   "source": [
    "import numpy as np\n",
    "import pandas as pd\n",
    "import matplotlib.pyplot as plt\n",
    "from sklearn.gaussian_process import GaussianProcessRegressor"
   ]
  },
  {
   "cell_type": "code",
   "execution_count": 14,
   "metadata": {},
   "outputs": [],
   "source": [
    "X = np.load('initial_inputs.npy')\n",
    "Y = np.load('initial_outputs.npy')"
   ]
  },
  {
   "cell_type": "code",
   "execution_count": 15,
   "metadata": {},
   "outputs": [],
   "source": [
    "# Week 1\n",
    "X = np.append(X, np.array([[0.0, 0.0, 0.111111, 0.0, 0.222222, 0.999999]]), axis=0)\n",
    "Y = np.append(Y, 0.341945960681604)"
   ]
  },
  {
   "cell_type": "code",
   "execution_count": 16,
   "metadata": {},
   "outputs": [],
   "source": [
    "# Week 2\n",
    "X = np.append(X, np.array([[0.999999, 0.999999, 0.222222, 0.999999, 0.999999, 0.000000]]), axis=0)\n",
    "Y = np.append(Y, 0.001003495689)"
   ]
  },
  {
   "cell_type": "code",
   "execution_count": 17,
   "metadata": {},
   "outputs": [],
   "source": [
    "# Week 3, submission for M15, submitted on Mon Hune 2024\n",
    "X = np.append(X, np.array([[0.000000, 0.999999, 0.000000, 0.000000, 0.333333, 0.000000]]), axis=0)\n",
    "Y = np.append(Y, 0.00815600414602021)"
   ]
  },
  {
   "cell_type": "code",
   "execution_count": 18,
   "metadata": {},
   "outputs": [
    {
     "name": "stdout",
     "output_type": "stream",
     "text": [
      "X :  [[0.27262382 0.32449536 0.89710881 0.83295115 0.15406269 0.79586362]\n",
      " [0.54300258 0.9246939  0.34156746 0.64648585 0.71844033 0.34313266]\n",
      " [0.09083225 0.66152938 0.06593091 0.25857701 0.96345285 0.6402654 ]\n",
      " [0.11886697 0.61505494 0.90581639 0.8553003  0.41363143 0.58523563]\n",
      " [0.63021764 0.8380969  0.68001305 0.73189509 0.52673671 0.34842921]\n",
      " [0.76491917 0.25588292 0.60908422 0.21807904 0.32294277 0.09579366]\n",
      " [0.05789554 0.49167222 0.24742222 0.21811844 0.42042833 0.73096984]\n",
      " [0.19525188 0.07922665 0.55458046 0.17056682 0.01494418 0.10703171]\n",
      " [0.64230298 0.83687455 0.02179269 0.10148801 0.68307083 0.6924164 ]\n",
      " [0.78994255 0.19554501 0.57562333 0.07365919 0.25904917 0.05109986]\n",
      " [0.52849733 0.45742436 0.36009569 0.36204551 0.81689098 0.63747637]\n",
      " [0.72261522 0.01181284 0.06364591 0.16517311 0.07924415 0.35995166]\n",
      " [0.07566492 0.33450212 0.13273274 0.60831236 0.91838592 0.82233079]\n",
      " [0.94245084 0.37743962 0.48612233 0.22879108 0.08263175 0.71195755]\n",
      " [0.14864702 0.03394336 0.72880565 0.31606646 0.02176938 0.51691776]\n",
      " [0.81711239 0.54816823 0.10334758 0.12436955 0.72823482 0.44967361]\n",
      " [0.41762629 0.06409998 0.24566877 0.5590408  0.19153138 0.25464092]\n",
      " [0.72628566 0.46489581 0.92457051 0.8072454  0.6354384  0.14341787]\n",
      " [0.31981043 0.52009759 0.29067775 0.87670668 0.49503469 0.6190825 ]\n",
      " [0.87987128 0.39796199 0.00363456 0.95699064 0.26451373 0.11486924]\n",
      " [0.54124078 0.63140314 0.03190205 0.44998156 0.79865282 0.63370429]\n",
      " [0.22634792 0.11502581 0.82474966 0.94538372 0.90531153 0.95101392]\n",
      " [0.68685257 0.04101721 0.00757301 0.285009   0.69156848 0.6555429 ]\n",
      " [0.17597754 0.6244165  0.29554198 0.46955276 0.09776977 0.72814108]\n",
      " [0.88164674 0.20445019 0.41447436 0.42038468 0.26491501 0.73066019]\n",
      " [0.06661051 0.52804507 0.8160952  0.96101714 0.08650933 0.77778822]\n",
      " [0.93246638 0.48881189 0.25860774 0.95624344 0.19042781 0.51985176]\n",
      " [0.84686697 0.14242917 0.06066859 0.75629213 0.5523983  0.08130609]\n",
      " [0.80628208 0.32412237 0.72607601 0.14871213 0.7193764  0.36288398]\n",
      " [0.47682313 0.34094195 0.01433523 0.88013956 0.9986547  0.07966402]\n",
      " [0.         0.         0.111111   0.         0.222222   0.999999  ]\n",
      " [0.999999   0.999999   0.222222   0.999999   0.999999   0.        ]\n",
      " [0.         0.999999   0.         0.         0.333333   0.        ]]\n",
      "Y :  [6.04432696e-01 5.62753067e-01 7.50323668e-03 6.14243025e-02\n",
      " 2.73046801e-01 8.37465723e-02 1.36496830e+00 9.26449549e-02\n",
      " 1.78695987e-02 3.35649360e-02 7.35163042e-02 2.06309698e-01\n",
      " 8.82563400e-03 2.68400317e-01 6.11525528e-01 1.47981826e-02\n",
      " 2.74892508e-01 6.67632469e-02 4.21183545e-02 2.70146502e-03\n",
      " 1.82090730e-02 7.01602756e-03 1.00506611e-01 4.75395516e-01\n",
      " 6.75141631e-01 5.16457219e-01 3.77747962e-03 3.13433331e-03\n",
      " 2.13425228e-02 9.54111589e-02 3.41945961e-01 1.00349569e-03\n",
      " 8.15600415e-03]\n"
     ]
    }
   ],
   "source": [
    "print('X : ',  X)\n",
    "print('Y : ', Y)"
   ]
  },
  {
   "cell_type": "code",
   "execution_count": 19,
   "metadata": {},
   "outputs": [],
   "source": [
    "import itertools as it"
   ]
  },
  {
   "cell_type": "code",
   "execution_count": 20,
   "metadata": {},
   "outputs": [],
   "source": [
    "dim = 6\n",
    "X_grid = np.fromiter(it.chain(*it.product(np.linspace(0, 1, 10), repeat=dim)), dtype=float).reshape(-1,dim)"
   ]
  },
  {
   "cell_type": "code",
   "execution_count": 21,
   "metadata": {},
   "outputs": [],
   "source": [
    "def upper_confidance_bound(i_param, o_param):\n",
    "    gpr = GaussianProcessRegressor()\n",
    "    gpr.fit(i_param, o_param)\n",
    "    mean, std = gpr.predict(X_grid, return_std = True)\n",
    "    ucb = mean + 1.2 * std\n",
    "    return ucb\n"
   ]
  },
  {
   "cell_type": "code",
   "execution_count": 22,
   "metadata": {},
   "outputs": [],
   "source": [
    "def get_next(upper_conf):\n",
    "    idx_max = np.argmax(upper_conf)\n",
    "    next_query = X_grid[idx_max]\n",
    "    return next_query"
   ]
  },
  {
   "cell_type": "code",
   "execution_count": 23,
   "metadata": {},
   "outputs": [],
   "source": [
    "ucb = upper_confidance_bound(X,Y)"
   ]
  },
  {
   "cell_type": "code",
   "execution_count": 24,
   "metadata": {},
   "outputs": [
    {
     "name": "stdout",
     "output_type": "stream",
     "text": [
      "[0.         0.66666667 0.66666667 0.         0.33333333 1.        ]\n"
     ]
    }
   ],
   "source": [
    "print(get_next(upper_conf=ucb))"
   ]
  }
 ],
 "metadata": {
  "kernelspec": {
   "display_name": "Python 3",
   "language": "python",
   "name": "python3"
  },
  "language_info": {
   "codemirror_mode": {
    "name": "ipython",
    "version": 3
   },
   "file_extension": ".py",
   "mimetype": "text/x-python",
   "name": "python",
   "nbconvert_exporter": "python",
   "pygments_lexer": "ipython3",
   "version": "3.11.9"
  }
 },
 "nbformat": 4,
 "nbformat_minor": 2
}
