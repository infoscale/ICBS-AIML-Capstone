{
 "cells": [
  {
   "cell_type": "code",
   "execution_count": 25,
   "metadata": {},
   "outputs": [],
   "source": [
    "import numpy as np\n",
    "import pandas as pd\n",
    "import matplotlib.pyplot as plt\n",
    "from sklearn.gaussian_process import GaussianProcessRegressor"
   ]
  },
  {
   "cell_type": "code",
   "execution_count": 26,
   "metadata": {},
   "outputs": [],
   "source": [
    "X = np.load('initial_inputs.npy')\n",
    "Y = np.load('initial_outputs.npy')"
   ]
  },
  {
   "cell_type": "code",
   "execution_count": 27,
   "metadata": {},
   "outputs": [],
   "source": [
    "# Week 1\n",
    "X = np.append(X, np.array([[0.0, 0.052631, 0.052631, 0.999999, 0.0]]), axis=0)\n",
    "Y = np.append(Y, -1.67008589427023)"
   ]
  },
  {
   "cell_type": "code",
   "execution_count": 28,
   "metadata": {},
   "outputs": [],
   "source": [
    "# Week 2\n",
    "X = np.append(X, np.array([[0.315789, 0.000000, 0.999999, 0.999999, 0.157895]]), axis=0)\n",
    "Y = np.append(Y, -1.062149105)"
   ]
  },
  {
   "cell_type": "code",
   "execution_count": 29,
   "metadata": {},
   "outputs": [],
   "source": [
    "# Week 3, submission for M15, submitted on Mon Hune 2024\n",
    "X = np.append(X, np.array([[0.263158, 0.999999, 0.000000, 0.999999, 0.000000     ]]), axis=0)\n",
    "Y = np.append(Y, -1.81124887980155)"
   ]
  },
  {
   "cell_type": "code",
   "execution_count": 30,
   "metadata": {},
   "outputs": [
    {
     "name": "stdout",
     "output_type": "stream",
     "text": [
      "X :  [[0.7281861  0.15469257 0.73255167 0.69399651 0.05640131]\n",
      " [0.24238435 0.84409997 0.5778091  0.67902128 0.50195289]\n",
      " [0.72952261 0.7481062  0.67977464 0.35655228 0.67105368]\n",
      " [0.77062024 0.11440374 0.04677993 0.64832428 0.27354905]\n",
      " [0.6188123  0.33180214 0.18728787 0.75623847 0.3288348 ]\n",
      " [0.78495809 0.91068235 0.7081201  0.95922543 0.0049115 ]\n",
      " [0.14511079 0.8966846  0.89632223 0.72627154 0.23627199]\n",
      " [0.94506907 0.28845905 0.97880576 0.96165559 0.59801594]\n",
      " [0.12572016 0.86272469 0.02854433 0.24660527 0.75120624]\n",
      " [0.75759436 0.35583141 0.0165229  0.4342072  0.11243304]\n",
      " [0.5367969  0.30878091 0.41187929 0.38822518 0.5225283 ]\n",
      " [0.95773967 0.23566857 0.09914585 0.15680593 0.07131737]\n",
      " [0.6293079  0.80348368 0.81140844 0.04561319 0.11062446]\n",
      " [0.02173531 0.42808424 0.83593944 0.48948866 0.51108173]\n",
      " [0.43934426 0.69892383 0.42682022 0.10947609 0.87788847]\n",
      " [0.25890557 0.79367771 0.6421139  0.19667346 0.59310318]\n",
      " [0.43216593 0.71561781 0.3418191  0.70499988 0.61496184]\n",
      " [0.78287982 0.53633586 0.44328356 0.85969983 0.01032599]\n",
      " [0.9217762  0.93187122 0.41487637 0.59505727 0.73562569]\n",
      " [0.12667892 0.2914703  0.06452848 0.6805146  0.89281919]\n",
      " [0.         0.052631   0.052631   0.999999   0.        ]\n",
      " [0.315789   0.         0.999999   0.999999   0.157895  ]\n",
      " [0.263158   0.999999   0.         0.999999   0.        ]]\n",
      "Y :  [-0.71426495 -1.20995524 -1.67219994 -1.53605771 -0.82923655 -1.24704893\n",
      " -1.23378638 -1.69434344 -2.57116963 -1.30911635 -1.14478485 -1.91267714\n",
      " -1.62283895 -1.35668211 -2.0184254  -1.70255784 -1.29424696 -0.93575656\n",
      " -2.15576776 -1.74688209 -1.67008589 -1.06214911 -1.81124888]\n"
     ]
    }
   ],
   "source": [
    "print('X : ',  X)\n",
    "print('Y : ', Y)"
   ]
  },
  {
   "cell_type": "code",
   "execution_count": 31,
   "metadata": {},
   "outputs": [],
   "source": [
    "import itertools as it"
   ]
  },
  {
   "cell_type": "code",
   "execution_count": 32,
   "metadata": {},
   "outputs": [],
   "source": [
    "dim = 5\n",
    "X_grid = np.fromiter(it.chain(*it.product(np.linspace(0, 1, 20), repeat=dim)), dtype=float).reshape(-1,dim)"
   ]
  },
  {
   "cell_type": "code",
   "execution_count": 33,
   "metadata": {},
   "outputs": [],
   "source": [
    "def upper_confidance_bound(i_param, o_param):\n",
    "    gpr = GaussianProcessRegressor()\n",
    "    gpr.fit(i_param, o_param)\n",
    "    mean, std = gpr.predict(X_grid, return_std = True)\n",
    "    ucb = mean + 1.5 * std\n",
    "    return ucb\n"
   ]
  },
  {
   "cell_type": "code",
   "execution_count": 34,
   "metadata": {},
   "outputs": [],
   "source": [
    "def get_next(upper_conf):\n",
    "    idx_max = np.argmax(upper_conf)\n",
    "    next_query = X_grid[idx_max]\n",
    "    return next_query"
   ]
  },
  {
   "cell_type": "code",
   "execution_count": 35,
   "metadata": {},
   "outputs": [],
   "source": [
    "ucb = upper_confidance_bound(X,Y)"
   ]
  },
  {
   "cell_type": "code",
   "execution_count": 36,
   "metadata": {},
   "outputs": [
    {
     "name": "stdout",
     "output_type": "stream",
     "text": [
      "[0.42105263 0.31578947 0.52631579 0.73684211 0.10526316]\n"
     ]
    }
   ],
   "source": [
    "print(get_next(upper_conf=ucb))"
   ]
  }
 ],
 "metadata": {
  "kernelspec": {
   "display_name": "Python 3",
   "language": "python",
   "name": "python3"
  },
  "language_info": {
   "codemirror_mode": {
    "name": "ipython",
    "version": 3
   },
   "file_extension": ".py",
   "mimetype": "text/x-python",
   "name": "python",
   "nbconvert_exporter": "python",
   "pygments_lexer": "ipython3",
   "version": "3.11.9"
  }
 },
 "nbformat": 4,
 "nbformat_minor": 2
}
